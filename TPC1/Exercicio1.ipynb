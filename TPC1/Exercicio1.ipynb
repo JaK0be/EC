{
 "cells": [
  {
   "cell_type": "markdown",
   "metadata": {},
   "source": [
    "### Exercício 1 - Pedro Gonçalves (A82313) & Roberto Cachada (A81012)"
   ]
  },
  {
   "cell_type": "markdown",
   "metadata": {},
   "source": [
    "Para este exercício era pedido a criação de dois agentes, ***Emitter*** e ***Receiver***, de modo a estabelecer uma comunicação privada entre ambos, utilizando para isso a *package* ***Cryptography***. Para tal, foram criadas diferentes funções de modo a cumprir esse objetivo. Essas funções serão descritas em baixo."
   ]
  },
  {
   "cell_type": "markdown",
   "metadata": {},
   "source": [
    "##### Alínea a)\n",
    "\n",
    "* Para resolver esta primeira alínea, foi criada a função ***genNounce***. Esta função, após receber o tamanho do *nounce* a gerar, em *bytes*, obtém uma sequência de caracteres aleatoriamente gerados com esse tamanho, retornando-a em seguida ao utilizador."
   ]
  },
  {
   "cell_type": "code",
   "execution_count": 1,
   "metadata": {},
   "outputs": [],
   "source": [
    "import os\n",
    "from cryptography.hazmat.primitives.kdf.pbkdf2 import PBKDF2HMAC\n",
    "from cryptography.hazmat.primitives import hashes, hmac\n",
    "from cryptography.hazmat.primitives.ciphers import Cipher, algorithms, modes\n",
    "from cryptography.hazmat.backends import default_backend\n",
    "from cryptography.hazmat.primitives.ciphers.aead import AESGCM\n",
    "\n",
    "def genNounce(tamanho): #tamanho em bytes\n",
    "    nounce = os.urandom(tamanho)\n",
    "    return nounce"
   ]
  },
  {
   "cell_type": "markdown",
   "metadata": {},
   "source": [
    "##### Alínea b)\n",
    "\n",
    "- Nesta alínea foram criadas as funções ***hmac***, ***encrypt*** e ***decrypt***. \n",
    "- A ***hmac*** serve para garantir a autenticação de texto limpo e também verificar a autenticidade do mesmo, utilizando para tal uma função de *hash* criptográfica juntamente com uma chave para cumprir esse objetivo.\n",
    "- Já a funcão ***encrypt*** serve para encriptar/autenticar o texto limpo utilizando a cifra *AES (Advanced Encryption Standard)*, em modo *GCM (Galois Counter Mode)*. Já a função ***decrypt*** serve para decifrar os resultados produzidos pela função ***encrypt*** e verificando em simultâneo a sua autenticidade.\n",
    "- Foi escolhido o modo *GCM (Galois Counter Mode)* pois o grupo considerou ser dos melhores modos contra ataques de IV, desde que seja garantido que o mesmo se trate de um *nounce*, o que acontece com a nossa implementação. As razões para as quais é necessário que o IV se trate de um *nounce* são apresentadas de seguida:\n",
    "  - Como a encriptação em modo *GCM* consiste em **TextoCifrado = TextoLimpo $\\oplus$ F(Chave, IV)**. Caso se encripte dois textos limpos diferentes usando o mesmo par Chave/IV, **TC1 = TL1 $\\oplus$ F(Chave, Iv)** e **TC2 = TL2 $\\oplus$ F(Chave, Iv)** é possível através de TC1 e TC2 obter TL1 e TL2 fazendo o XOR de  **TC1 $\\oplus$ TC2 = TL1 $\\oplus$ TL2**, obtendo assim os textos limpos *XORed*."
   ]
  },
  {
   "cell_type": "code",
   "execution_count": 2,
   "metadata": {},
   "outputs": [],
   "source": [
    "from cryptography.hazmat.primitives import hashes, hmac\n",
    "\n",
    "def mac(chave, textolimpo, tag=None):\n",
    "    h = hmac.HMAC(chave,hashes.SHA256(),default_backend())\n",
    "    h.update(textolimpo)\n",
    "    if tag == None: #Se não existir tag, autentica o texto limpo\n",
    "        return h.finalize()\n",
    "    h.verify(tag) #Caso contrário verifica a autenticidade da tag"
   ]
  },
  {
   "cell_type": "code",
   "execution_count": 3,
   "metadata": {},
   "outputs": [],
   "source": [
    "def encrypt(chave, textolimpo):\n",
    "    iv = genNounce(12) #gera um IV de 12 bytes\n",
    "\n",
    "    #Criação de um objeto AES-GCM através da chave e do IV \n",
    "    encryptor = Cipher(\n",
    "        algorithms.AES(chave), #Cifra AES\n",
    "        modes.GCM(iv), #Modo GCM\n",
    "        backend=default_backend()\n",
    "    ).encryptor()\n",
    "\n",
    "    #Encripta o texto limpo\n",
    "    ciphertext = encryptor.update(textolimpo) + encryptor.finalize()\n",
    "\n",
    "    return (iv, ciphertext, encryptor.tag)\n",
    "\n",
    "def decrypt(chave, iv, ciphertext, tag):\n",
    "    #Criação de um objeto AES-GCM através da chave, do IV\n",
    "    decryptor = Cipher(\n",
    "        algorithms.AES(chave),\n",
    "        modes.GCM(iv,tag),\n",
    "        backend=default_backend()\n",
    "    ).decryptor()\n",
    "\n",
    "    #Retorna o texto limpo\n",
    "    return decryptor.update(ciphertext) + decryptor.finalize()"
   ]
  },
  {
   "cell_type": "markdown",
   "metadata": {},
   "source": [
    "##### Alínea c)\n",
    "\n",
    "- Nesta alínea foi criada a função ***sts***, onde está definido o protocolo de troca de chaves ***Diffie-Hellman*** e a autenticação dos agentes atráves do esquema de assinaturas ***DSA***.\n",
    "- Para tal, são criados parámetros ***Diffie-Hellman*** e ***DSA***, dos quais são geradas chaves públicas e privadas para ambos. Em seguida é executado o processo de troca de chaves ***Diffie-Hellman***, sendo em simultâneo verificada a autenticidade dos agentes envolvidos através do esquema de assinaturas ***DSA***."
   ]
  },
  {
   "cell_type": "code",
   "execution_count": 5,
   "metadata": {
    "scrolled": true
   },
   "outputs": [],
   "source": [
    "from cryptography.hazmat.backends import default_backend\n",
    "from cryptography.hazmat.primitives.asymmetric import dh\n",
    "from cryptography.hazmat.primitives.asymmetric import dsa\n",
    "from cryptography.hazmat.primitives import serialization\n",
    "from cryptography.hazmat.primitives.kdf.hkdf import HKDF\n",
    "\n",
    "#São gerados os parámetros\n",
    "dhParameters = dh.generate_parameters(generator=2, key_size=2048, backend=default_backend())\n",
    "dsaParameters = dsa.generate_parameters(key_size=2048,backend=default_backend())"
   ]
  },
  {
   "cell_type": "code",
   "execution_count": 6,
   "metadata": {},
   "outputs": [],
   "source": [
    "salt = os.urandom(16) #Salt partilhado\n",
    "\n",
    "def sts(agente, conn):\n",
    "     #--DH--\n",
    "    chavePrivadaDH = dhParameters.generate_private_key() #Gera uma chave privada DH\n",
    "    chavePublicaDH = chavePrivadaDH.public_key().public_bytes(\n",
    "        encoding=serialization.Encoding.PEM,\n",
    "        format=serialization.PublicFormat.SubjectPublicKeyInfo) #Gera uma chave pública DH e serializa a mesma\n",
    "\n",
    "    #--DSA--\n",
    "    chavePrivadaDSA = dsaParameters.generate_private_key() #Gera uma chave privada DSA\n",
    "    chavePublicaDSA = chavePrivadaDSA.public_key().public_bytes( \n",
    "            encoding=serialization.Encoding.PEM,\n",
    "            format=serialization.PublicFormat.SubjectPublicKeyInfo) #Gera uma chave Pública DSA e serializa a mesma\n",
    "    \n",
    "    assinatura = chavePrivadaDSA.sign(chavePublicaDH, hashes.SHA256()) #Agente assina a sua chave DH pública\n",
    "    \n",
    "    #É criada uma stream de dados(dicionário), que contém ambas as chaves públicas do agente e a sua assinatura DSA\n",
    "    dados = {'CP_DH' : chavePublicaDH, 'CP_DSA' : chavePublicaDSA, 'Assinatura' : assinatura} \n",
    "    conn.send(dados) #É enviada a stream de dados\n",
    "    \n",
    "    dados = conn.recv() #É recebida a stream de dados do outro agente\n",
    "    peerDH_PK_Bytes = dados['CP_DH']\n",
    "    peerDSA_PK_Bytes = dados['CP_DSA']\n",
    "    peerSignature = dados['Assinatura']\n",
    "    \n",
    "    # Chaves recebidas são deserializadas\n",
    "    peerDH_PK = serialization.load_pem_public_key(peerDH_PK_Bytes, backend=default_backend())\n",
    "    peerDSA_PK = serialization.load_pem_public_key(peerDSA_PK_Bytes, backend=default_backend())\n",
    "    \n",
    "    try: #É verificada a validade da assinatura do agente oposto\n",
    "        peerDSA_PK.verify(peerSignature, peerDH_PK_Bytes, hashes.SHA256())\n",
    "        print(agente + \": Assinatura validada com sucesso\")\n",
    "    except:\n",
    "        print(agente + \": Assinatura não validada\")\n",
    "    \n",
    "    #Obtenção da chave DH partilhada\n",
    "    chavePartilhada = chavePrivadaDH.exchange(peerDH_PK)\n",
    "    chaveDerivada = HKDF(\n",
    "        algorithm=hashes.SHA256(),\n",
    "        length=32,\n",
    "        salt=salt,\n",
    "        info=b'handshake data',\n",
    "        backend=default_backend()\n",
    "    ).derive(chavePartilhada)\n",
    "    \n",
    "    \n",
    "    #Verificação se a chave obtida por ambos os agentes foi a mesma através de um Hmac\n",
    "    hashVerificacao = mac(b'PasswordVerificacao',chaveDerivada)\n",
    "    conn.send(hashVerificacao)\n",
    "    peerHashChave = conn.recv()\n",
    "    mac(b'PasswordVerificacao', chaveDerivada, peerHashChave)\n",
    "    print(agente + \": Processo DH concluído com sucesso\")\n",
    "    \n",
    "    return chaveDerivada"
   ]
  },
  {
   "cell_type": "markdown",
   "metadata": {},
   "source": [
    "##### Comunicação Privada\n",
    "* Para os agentes comunicarem entre si, são criados dois processos que comunicam entre si através de um *pipe*, permitindo assim ao ***Emitter***, após ter completado o processo de troca de chaves, enviar uma *stream* de informação encriptada ao ***Receiver*** fechando ambos a conexão após o envio/receção dessa *stream* de dados."
   ]
  },
  {
   "cell_type": "code",
   "execution_count": 7,
   "metadata": {},
   "outputs": [],
   "source": [
    "from multiprocessing import Pipe, Process\n",
    "\n",
    "class PipeCom(object):\n",
    "    def __init__(self,left,right,timeout=None): #Recebe os agentes e um timeout para os processos a serem criados\n",
    "        left_end, right_end = Pipe() #São criadas as \"pontas\" do Pipe\n",
    "        self.timeout=timeout\n",
    "        self.lproc = Process(target=left, args=(left_end,)) #Cria um processo e define qual o agente desse processo\n",
    "        self.rproc = Process(target=right, args=(right_end,))\n",
    "        self.left  = lambda : left(left_end) #Define quais as \"pontas\" a que cada agente tem acesso\n",
    "        self.right = lambda : right(right_end)\n",
    "    \n",
    "    def executa(self): #Cria os processos e executa os agentes\n",
    "        self.lproc.start()\n",
    "        self.rproc.start()  \n",
    "        self.lproc.join(self.timeout)\n",
    "        self.rproc.join(self.timeout)"
   ]
  },
  {
   "cell_type": "code",
   "execution_count": 8,
   "metadata": {},
   "outputs": [],
   "source": [
    "mensagem = b\"Mensagem a encriptar e enviar e caracteres aleatorios jkc kscskdjnc hfjshc kjfhskjcnkjs jkcvsjkhvnkj\"\n",
    "\n",
    "def Receiver(conn):\n",
    "    chaveR = sts('Receiver', conn)\n",
    "    \n",
    "    try:#Separar os diferentes componentes da stream(dicionário) de dados recebida\n",
    "        data = conn.recv() #Recebe dados\n",
    "        ciphertext = data['cipher']\n",
    "        iv = data['iv']\n",
    "        tag = data['tag']\n",
    "\n",
    "        print(decrypt( #Decifra o ciphertext e verifica a autenticidade dos metadados\n",
    "            chaveR,\n",
    "            iv,\n",
    "            ciphertext,\n",
    "            tag\n",
    "        ))\n",
    "        print(\"Receiver: Processo concluído com sucesso\")\n",
    "    except:\n",
    "        print(\"Receiver: Erro\")\n",
    "        \n",
    "    conn.close() #Fecha a sua \"ponta\" do Pipe\n",
    "\n",
    "def Emitter(conn):\n",
    "    chaveE = sts('Emitter', conn)\n",
    "    \n",
    "    try:\n",
    "        iv, ciphertext, tag = encrypt( #Cifra texto limpo e autentica o mesmo\n",
    "            chaveE,\n",
    "            mensagem\n",
    "        )\n",
    "        data = {'cipher' : ciphertext , 'iv' : iv, 'tag' : tag} #Organiza os elementos numa Stream(dicionário)\n",
    "        conn.send(data) #Envia dados\n",
    "        print(\"Emitter: Dados Enviados\")\n",
    "    except:\n",
    "        print(\"Emitter: Erro\")\n",
    "        \n",
    "    conn.close() #Fecha a sua \"ponta\" do Pipe"
   ]
  },
  {
   "cell_type": "code",
   "execution_count": 9,
   "metadata": {
    "scrolled": false
   },
   "outputs": [
    {
     "name": "stdout",
     "output_type": "stream",
     "text": [
      "Receiver: Assinatura validada com sucesso\n",
      "Emitter: Assinatura validada com sucesso\n",
      "Emitter: Processo DH concluído com sucesso\n",
      "Receiver: Processo DH concluído com sucesso\n",
      "Emitter: Dados Enviados\n",
      "b'Mensagem a encriptar e enviar e caracteres aleatorios jkc kscskdjnc hfjshc kjfhskjcnkjs jkcvsjkhvnkj'\n",
      "Receiver: Processo concluído com sucesso\n"
     ]
    }
   ],
   "source": [
    "PipeCom(Emitter, Receiver).executa()"
   ]
  }
 ],
 "metadata": {
  "kernelspec": {
   "display_name": "Python 3",
   "language": "python",
   "name": "python3"
  },
  "language_info": {
   "codemirror_mode": {
    "name": "ipython",
    "version": 3
   },
   "file_extension": ".py",
   "mimetype": "text/x-python",
   "name": "python",
   "nbconvert_exporter": "python",
   "pygments_lexer": "ipython3",
   "version": "3.7.6"
  }
 },
 "nbformat": 4,
 "nbformat_minor": 2
}
