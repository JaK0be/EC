{
 "cells": [
  {
   "cell_type": "markdown",
   "metadata": {},
   "source": [
    "### Exercício 2 - Pedro Gonçalves (A82313) & Roberto Cachada (A81012)"
   ]
  },
  {
   "cell_type": "markdown",
   "metadata": {},
   "source": [
    "Este exercício consiste na re-implementação do exercício anterior, mas utilizando ferramentas baseadas em Curvas Elípticas. Assim sendo, a cifra *AES (Advanced Encryption Standard)* será substituída pela *ChaCha20Poly1305*, o protocolo *Diffie-Hellman* pelo *Elliptic-Curve Diffie–Hellman* e o esquema de assinaturas *DSA (Digital Signature Algorithm)* pelo *Elliptic-Curve DSA*."
   ]
  },
  {
   "cell_type": "markdown",
   "metadata": {},
   "source": [
    "##### Alínea a)\n",
    "\n",
    "- Para resolver esta primeira alínea foram criadas as funções ***genNounce***, ***mac***, ***encrypt*** e ***decrypt***-\n",
    "- A função genNounce, tal como o nome sugere, serve para gerar *nounces*.\n",
    "- A funçao ***mac*** serve para garantir a autenticação de texto limpo e também verificar a autenticidade do mesmo, utilizando para tal uma função de *hash* criptográfica juntamente com uma chave para cumprir esse objetivo.\n",
    "- Já a função ***encrypt*** serve para encriptar/autenticar o texto limpo utilizando para tal a cifra *ChaCha20Poly1305*, que consiste na junção das cifra simétrica *ChaCha20* com o MAC *Poly1305*. Por fim a função ***decrypt*** serve para decifrar os resultados produzidos pela função ***encrypt***, verificando em simultâneo a sua autenticidade."
   ]
  },
  {
   "cell_type": "code",
   "execution_count": 1,
   "metadata": {},
   "outputs": [],
   "source": [
    "import os\n",
    "from cryptography.hazmat.primitives.ciphers.aead import ChaCha20Poly1305\n",
    "from cryptography.hazmat.primitives import hashes, hmac\n",
    "\n",
    "def genNounce(tamanho): #tamanho em bytes\n",
    "    nounce = os.urandom(tamanho)\n",
    "    return nounce\n",
    "\n",
    "def mac(chave, textolimpo, tag=None):\n",
    "    h = hmac.HMAC(chave,hashes.SHA256(),default_backend())\n",
    "    h.update(textolimpo)\n",
    "    if tag == None: #Se não existir tag, autentica o texto limpo\n",
    "        return h.finalize()\n",
    "    h.verify(tag) #Caso contrário verifica a autenticidade da tag\n",
    "\n",
    "def encrypt(chave, textolimpo):\n",
    "    chacha = ChaCha20Poly1305(chave) #Criação de um objeto ChaCha20Poly1305\n",
    "    nounce = genNounce(12) #Geração de um nounce de 12 bytes\n",
    "    cyphertext = chacha.encrypt(nounce, textolimpo,None) #Encripta o texto limpo\n",
    "    return cyphertext, nounce\n",
    "\n",
    "def decrypt(chave, nounce, cyphertext):\n",
    "    chacha = ChaCha20Poly1305(chave) #Criação de um objeto ChaCha20Poly1305\n",
    "    textolimpo = chacha.decrypt(nounce, cyphertext,None) #Retorna o texto limpo\n",
    "    return textolimpo"
   ]
  },
  {
   "cell_type": "markdown",
   "metadata": {},
   "source": [
    "##### Alínea b)\n",
    "\n",
    "- Nesta alínea foi criada a função ***ecSTS***, onde está definido o protocolo de troca de chaves *Elliptic-Curve Diffie–Hellman* e a autenticação dos agentes atráves do esquema de assinaturas *Elliptic-Curve DSA*.\n",
    "- Para tal, são geradas chaves públicas e privadas para ambos os protocolos. Em seguida é executado o processo de troca de chaves *ECDH*, sendo em simultâneo verificada a autenticidade dos agentes envolvidos através do esquema de assinaturas *ECDSA*."
   ]
  },
  {
   "cell_type": "code",
   "execution_count": 2,
   "metadata": {},
   "outputs": [],
   "source": [
    "from cryptography.hazmat.backends import default_backend\n",
    "from cryptography.hazmat.primitives.asymmetric import ec\n",
    "from cryptography.hazmat.primitives.kdf.hkdf import HKDF\n",
    "from cryptography.hazmat.primitives import serialization\n",
    "\n",
    "salt = os.urandom(16) #Salt partilhado\n",
    "\n",
    "def ecSTS(agente, conn):\n",
    "    #--ECDH--\n",
    "    chavePrivadaECDH = ec.generate_private_key(ec.SECP384R1(), default_backend())\n",
    "    chavePublicaECDH = chavePrivadaECDH.public_key().public_bytes(\n",
    "            encoding=serialization.Encoding.PEM,\n",
    "            format=serialization.PublicFormat.SubjectPublicKeyInfo) #Gera uma chave pública ECDH e serializa a mesma\n",
    "\n",
    "    \n",
    "    #ECDSA\n",
    "    chavePrivadaECDSA = ec.generate_private_key(ec.SECP384R1(), default_backend())\n",
    "    chavePublicaECDSA = chavePrivadaECDSA.public_key().public_bytes(\n",
    "            encoding=serialization.Encoding.PEM,\n",
    "            format=serialization.PublicFormat.SubjectPublicKeyInfo) #Gera uma chave pública ECDSA e serializa a mesma\n",
    "\n",
    "    assinatura = chavePrivadaECDSA.sign(chavePublicaECDH, ec.ECDSA(hashes.SHA256()))\n",
    "\n",
    "    \n",
    "    #É criada uma stream de dados(dicionário), que contém ambas as chaves públicas do agente e a sua assinatura ECDSA\n",
    "    dados = {'CP_ECDH' : chavePublicaECDH, 'CP_ECDSA' : chavePublicaECDSA, 'Assinatura' : assinatura}\n",
    "    conn.send(dados) #É enviada a stream de dados\n",
    "\n",
    "    dados = conn.recv() #É recebida a stream de dados do outro agente\n",
    "    peerECDH_PK_Bytes = dados['CP_ECDH']\n",
    "    peerECDSA_PK_Bytes = dados['CP_ECDSA']\n",
    "    peerSignature = dados['Assinatura']\n",
    "\n",
    "    \n",
    "    #Chaves recebidas são deserializadas\n",
    "    peerECDH_PK = serialization.load_pem_public_key(peerECDH_PK_Bytes, backend=default_backend())\n",
    "    peerECDSA_PK = serialization.load_pem_public_key(peerECDSA_PK_Bytes, backend=default_backend())\n",
    "\n",
    "    try: #É verificada a validade da assinatura do agente oposto\n",
    "        peerECDSA_PK.verify(peerSignature, peerECDH_PK_Bytes, ec.ECDSA(hashes.SHA256()))\n",
    "        print(agente + \": Assinatura validada com sucesso\")\n",
    "    except:\n",
    "        print(agente + \": Assinatura não validada\")\n",
    "\n",
    "    \n",
    "    #Obtenção da chave ECDH partilhada\n",
    "    chavePartilhada = chavePrivadaECDH.exchange(ec.ECDH(), peerECDH_PK)\n",
    "    chaveDerivada = HKDF(\n",
    "    algorithm=hashes.SHA256(),\n",
    "    length=32,\n",
    "    salt=salt,\n",
    "    info=b'handshake data',\n",
    "    backend=default_backend()\n",
    "    ).derive(chavePartilhada)\n",
    "\n",
    "\n",
    "    #Verificação se a chave obtida por ambos os agentes foi a mesma através de um Hmac\n",
    "    hashVerificacao = mac(b'PasswordVerificacao',chaveDerivada)\n",
    "    conn.send(hashVerificacao)\n",
    "    peerHashChave = conn.recv()\n",
    "    mac(b'PasswordVerificacao', chaveDerivada, peerHashChave)\n",
    "    print(agente + \": Processo ECDH concluído com sucesso\")\n",
    "\n",
    "    return chaveDerivada"
   ]
  },
  {
   "cell_type": "markdown",
   "metadata": {},
   "source": [
    "##### Comunicação Privada\n",
    "* Para os agentes comunicarem entre si, são criados dois processos que comunicam entre si através de um *pipe*, permitindo assim ao ***Emitter***, após ter completado o processo de troca de chaves, enviar uma *stream* de informação encriptada ao ***Receiver*** fechando ambos a conexão após o envio/receção dessa *stream* de dados."
   ]
  },
  {
   "cell_type": "code",
   "execution_count": 3,
   "metadata": {},
   "outputs": [],
   "source": [
    "from multiprocessing import Pipe, Process\n",
    "\n",
    "class PipeCom(object):\n",
    "    def __init__(self,left,right,timeout=None): #Recebe os agentes e um timeout para os processos a serem criados\n",
    "        left_end, right_end = Pipe() #São criadas as \"pontas\" do Pipe\n",
    "        self.timeout=timeout\n",
    "        self.lproc = Process(target=left, args=(left_end,)) #Cria um processo e define qual o agente desse processo\n",
    "        self.rproc = Process(target=right, args=(right_end,))\n",
    "        self.left  = lambda : left(left_end) #Define quais as \"pontas\" a que cada agente tem acesso\n",
    "        self.right = lambda : right(right_end)\n",
    "    \n",
    "    def executa(self): #Cria os processos e executa os agentes\n",
    "        self.lproc.start()\n",
    "        self.rproc.start()  \n",
    "        self.lproc.join(self.timeout)\n",
    "        self.rproc.join(self.timeout)"
   ]
  },
  {
   "cell_type": "code",
   "execution_count": 4,
   "metadata": {},
   "outputs": [],
   "source": [
    "mensagem = b\"Mensagem a encriptar e enviar e caracteres aleatorios jkc kscskdjnc hfjshc kjfhskjcnkjs jkcvsjkhvnkj\"\n",
    "\n",
    "def Receiver(conn):\n",
    "    chaveR = ecSTS('Receiver', conn)\n",
    "    \n",
    "    try:#Separar os diferentes componentes da stream(dicionário) de dados recebida\n",
    "        data = conn.recv() #Recebe dados\n",
    "        ciphertext = data['cipher']\n",
    "        nounce = data['nounce']\n",
    "        print(decrypt( #Decifra o ciphertext e verifica a autenticidade dos metadados\n",
    "            chaveR,\n",
    "            nounce,\n",
    "            ciphertext\n",
    "        ))\n",
    "        print(\"Receiver: Processo concluído com sucesso\")\n",
    "    except:\n",
    "        print(\"Receiver: Erro\")\n",
    "        \n",
    "    conn.close() #Fecha a sua \"ponta\" do Pipe\n",
    "\n",
    "def Emitter(conn):\n",
    "    chaveE = ecSTS('Emitter', conn)\n",
    "    \n",
    "    try:\n",
    "        ciphertext, nounce = encrypt( #Cifra texto limpo e autentica o mesmo\n",
    "            chaveE,\n",
    "            mensagem\n",
    "        )\n",
    "        data = {'cipher' : ciphertext , 'nounce' : nounce } #Organiza os elementos numa Stream(dicionário)\n",
    "        conn.send(data) #Envia dados\n",
    "        print(\"Emitter: Dados Enviados\")\n",
    "    except:\n",
    "        print(\"Emitter: Erro\")\n",
    "        \n",
    "    conn.close() #Fecha a sua \"ponta\" do Pipe"
   ]
  },
  {
   "cell_type": "code",
   "execution_count": 5,
   "metadata": {},
   "outputs": [
    {
     "name": "stdout",
     "output_type": "stream",
     "text": [
      "Emitter: Assinatura validada com sucesso\n",
      "Receiver: Assinatura validada com sucesso\n",
      "Emitter: Processo ECDH concluído com sucesso\n",
      "Receiver: Processo ECDH concluído com sucesso\n",
      "Emitter: Dados Enviados\n",
      "b'Mensagem a encriptar e enviar e caracteres aleatorios jkc kscskdjnc hfjshc kjfhskjcnkjs jkcvsjkhvnkj'\n",
      "Receiver: Processo concluído com sucesso\n"
     ]
    }
   ],
   "source": [
    "PipeCom(Emitter, Receiver).executa()"
   ]
  }
 ],
 "metadata": {
  "kernelspec": {
   "display_name": "Python 3",
   "language": "python",
   "name": "python3"
  },
  "language_info": {
   "codemirror_mode": {
    "name": "ipython",
    "version": 3
   },
   "file_extension": ".py",
   "mimetype": "text/x-python",
   "name": "python",
   "nbconvert_exporter": "python",
   "pygments_lexer": "ipython3",
   "version": "3.7.6"
  }
 },
 "nbformat": 4,
 "nbformat_minor": 2
}
