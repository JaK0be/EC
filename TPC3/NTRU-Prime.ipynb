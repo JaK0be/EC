{
 "cells": [
  {
   "cell_type": "markdown",
   "metadata": {},
   "source": [
    "### Pedro Gonçalves (A82313) & Roberto Cachada (A81012)"
   ]
  },
  {
   "cell_type": "markdown",
   "metadata": {},
   "source": [
    "Os algoritmos implementados neste *notebook* são baseados no [documento](https://ntruprime.cr.yp.to/nist/ntruprime-20190330.pdf) da segunda ronda da candidatura ao concurso da NIST."
   ]
  },
  {
   "cell_type": "markdown",
   "metadata": {},
   "source": [
    "##### PKE-IND-CCA"
   ]
  },
  {
   "cell_type": "markdown",
   "metadata": {},
   "source": [
    "A camada do **Streamlined NTRU Prime** que implementa um PKE determinista é a camada interna, denominada **Streamlined NTRU Prime Core**."
   ]
  },
  {
   "cell_type": "code",
   "execution_count": 23,
   "metadata": {},
   "outputs": [],
   "source": [
    "#from sage.all_cmdline import *\n",
    "import sys\n",
    "import hashlib\n",
    "def sha512(s):\n",
    "    h = hashlib.sha512()\n",
    "    h.update(s)\n",
    "    return h.digest()\n",
    "\n",
    "_sage_const_0 = Integer(0); _sage_const_2 = Integer(2); _sage_const_1 = Integer(1); _sage_const_761 = Integer(761); _sage_const_4591 = Integer(4591); _sage_const_286 = Integer(286); _sage_const_250 = Integer(250); _sage_const_292 = Integer(292); _sage_const_2156 = Integer(2156); _sage_const_114 = Integer(114); _sage_const_2007 = Integer(2007); _sage_const_287 = Integer(287); _sage_const_3 = Integer(3); _sage_const_4 = Integer(4); _sage_const_653 = Integer(653); _sage_const_4621 = Integer(4621); _sage_const_288 = Integer(288); _sage_const_5 = Integer(5); _sage_const_252 = Integer(252); _sage_const_289 = Integer(289); _sage_const_2175 = Integer(2175); _sage_const_113 = Integer(113); _sage_const_2031 = Integer(2031); _sage_const_290 = Integer(290); _sage_const_6 = Integer(6); _sage_const_857 = Integer(857); _sage_const_5167 = Integer(5167); _sage_const_322 = Integer(322); _sage_const_7 = Integer(7); _sage_const_281 = Integer(281); _sage_const_329 = Integer(329); _sage_const_2433 = Integer(2433); _sage_const_101 = Integer(101); _sage_const_2265 = Integer(2265); _sage_const_324 = Integer(324); _sage_const_16 = Integer(16); _sage_const_256 = Integer(256); _sage_const_8 = Integer(8); _sage_const_14 = Integer(14); _sage_const_15 = Integer(15); _sage_const_32 = Integer(32); _sage_const_65536 = Integer(65536); _sage_const_16777216 = Integer(16777216); _sage_const_0x3fffffff = Integer(0x3fffffff); _sage_const_30 = Integer(30); _sage_const_128 = Integer(128); _sage_const_64 = Integer(64); _sage_const_16384 = Integer(16384); _sage_const_255 = Integer(255); _sage_const_6144 = Integer(6144); _sage_const_1218 = Integer(1218); _sage_const_1536 = Integer(1536); _sage_const_1015 = Integer(1015); _sage_const_10 = Integer(10); _sage_const_100 = Integer(100)\n",
    "\n",
    "#Parámetros\n",
    "(round1,p,q,w,lpr) = (True,_sage_const_761 ,_sage_const_4591 ,_sage_const_286 ,False)\n",
    "assert p.is_prime()\n",
    "assert q.is_prime()\n",
    "assert w > Integer(0)\n",
    "assert Integer(2)*p >= Integer(3)*w\n",
    "assert q >= Integer(16)*w+Integer(1)\n",
    "\n",
    "#-------\n",
    "\n",
    "F3 = GF(_sage_const_3 )\n",
    "def ZZ_fromF3(c):\n",
    "    assert c in F3\n",
    "    return ZZ(c+Integer(1))-Integer(1)\n",
    "\n",
    "Fq = GF(q)\n",
    "q12 = ZZ((q-_sage_const_1 )/_sage_const_2 )\n",
    "def ZZ_fromFq(c):\n",
    "    assert c in Fq\n",
    "    return ZZ(c+q12)-q12\n",
    "#-------\n",
    "\n",
    "Zx = ZZ['x']; (x,) = Zx._first_ngens(1)\n",
    "R = Zx.quotient(x**p-x-Integer(1) , names=('xp',)); (xp,) = R._first_ngens(1)\n",
    "\n",
    "def Weightw_is(r):\n",
    "    assert r in R\n",
    "    return w == len([i for i in range(p) if r[i] != _sage_const_0 ])\n",
    "\n",
    "def Small_is(r):\n",
    "    assert r in R\n",
    "    return all(abs(r[i]) <= _sage_const_1  for i in range(p))\n",
    "\n",
    "def Short_is(r):\n",
    "    return Small_is(r) and Weightw_is(r)\n",
    "\n",
    "#------- polynomials mod 3\n",
    "\n",
    "F3x = F3['x3']; (x3,) = F3x._first_ngens(1)\n",
    "R3 = F3x.quotient(x**p-x-_sage_const_1 , names=('x3p',)); (x3p,) = R3._first_ngens(1)\n",
    "\n",
    "def R_fromR3(r):\n",
    "    assert r in R3\n",
    "    return R([ZZ_fromF3(r[i]) for i in range(p)])\n",
    "\n",
    "def R3_fromR(r):\n",
    "    assert r in R\n",
    "    return R3([r[i] for i in range(p)])\n",
    "    \n",
    "# ----- polynomials mod q\n",
    "\n",
    "Fqx = Fq['xq']; (xq,) = Fqx._first_ngens(1)\n",
    "Rq = Fqx.quotient(x**p-x-_sage_const_1 , names=('xqp',)); (xqp,) = Rq._first_ngens(1)\n",
    "assert (xq**p-xq-_sage_const_1 ).is_irreducible()\n",
    "\n",
    "def R_fromRq(r):\n",
    "    assert r in Rq\n",
    "    return R([ZZ_fromFq(r[i]) for i in range(p)])\n",
    "\n",
    "def Rq_fromR(r):\n",
    "    assert r in R\n",
    "    return Rq([r[i] for i in range(p)])\n",
    "\n",
    "# ----- rounded polynomials mod q\n",
    "\n",
    "def Rounded_is(r):\n",
    "    assert r in R\n",
    "    return (all(r[i]%_sage_const_3  == _sage_const_0  for i in range(p))\n",
    "        and all(r[i] >= -q12 for i in range(p))\n",
    "        and all(r[i] <= q12 for i in range(p)))\n",
    "\n",
    "def Round(a):\n",
    "    assert a in Rq\n",
    "    c = R_fromRq(a)\n",
    "    r = [_sage_const_3 *round(c[i]/_sage_const_3 ) for i in range(p)]\n",
    "    assert all(abs(r[i]-c[i]) <= _sage_const_1  for i in range(p))\n",
    "    r = R(r)\n",
    "    assert Rounded_is(r)\n",
    "    return r\n",
    "\n",
    "# ----- sorting to generate short polynomial\n",
    "\n",
    "def Short_fromlist(L): # L is list of p uint32\n",
    "    L = [L[i]&-_sage_const_2  for i in range(w)] + [(L[i]&-_sage_const_3 )|_sage_const_1  for i in range(w,p)]\n",
    "    assert all(L[i]%_sage_const_2  == _sage_const_0  for i in range(w))\n",
    "    assert all(L[i]%_sage_const_4  == _sage_const_1  for i in range(w,p))\n",
    "    L.sort()\n",
    "    L = [(L[i]%_sage_const_4 )-_sage_const_1  for i in range(p)]\n",
    "    assert all(abs(L[i]) <= _sage_const_1  for i in range(p))\n",
    "    assert sum(abs(L[i]) for i in range(p)) == w\n",
    "    r = R(L)\n",
    "    assert Short_is(r)\n",
    "    return r\n",
    "\n",
    "def random8(): return randrange(_sage_const_256 )\n",
    "\n",
    "def urandom32():\n",
    "    c0 = random8()\n",
    "    c1 = random8()\n",
    "    c2 = random8()\n",
    "    c3 = random8()\n",
    "    return c0 + _sage_const_256 *c1 + _sage_const_65536 *c2 + _sage_const_16777216 *c3\n",
    "\n",
    "def Short_random(): # R element with w coeffs +-1\n",
    "    L = [urandom32() for i in range(p)]\n",
    "    return Short_fromlist(L)\n",
    "\n",
    "def randomrange3():\n",
    "    return ((urandom32() & _sage_const_0x3fffffff ) * _sage_const_3 ) >> _sage_const_30 \n",
    "\n",
    "def Small_random():\n",
    "    r = R([randomrange3()-_sage_const_1  for i in range(p)])\n",
    "    assert Small_is(r)\n",
    "    return r"
   ]
  },
  {
   "cell_type": "code",
   "execution_count": 24,
   "metadata": {},
   "outputs": [],
   "source": [
    "def KeyGen():\n",
    "    while (True):\n",
    "        g = Small_random()\n",
    "        if R3_fromR(g).is_unit(): break\n",
    "    f = Short_random()\n",
    "    h = Rq_fromR(g)/Rq_fromR(_sage_const_3 *f)\n",
    "    return h,(f,_sage_const_1 /R3_fromR(g))\n",
    "\n",
    "def Encrypt(r,h):\n",
    "    assert Short_is(r)\n",
    "    assert h in Rq\n",
    "    return Round(h*Rq_fromR(r))\n",
    "\n",
    "def Decrypt(c,k):\n",
    "    f,v = k\n",
    "    assert Rounded_is(c)\n",
    "    assert Short_is(f)\n",
    "    assert v in R3\n",
    "    e = R3_fromR(R_fromRq(_sage_const_3 *Rq_fromR(f)*Rq_fromR(c)))\n",
    "    r = R_fromR3(e*v)\n",
    "    if Weightw_is(r): return r\n",
    "    return R([_sage_const_1 ]*w+[_sage_const_0 ]*(p-w))"
   ]
  },
  {
   "cell_type": "code",
   "execution_count": 34,
   "metadata": {
    "scrolled": true
   },
   "outputs": [
    {
     "name": "stdout",
     "output_type": "stream",
     "text": [
      "True\n"
     ]
    }
   ],
   "source": [
    "h,j = KeyGen()\n",
    "r = Short_random()\n",
    "ct = Encrypt(r,h)\n",
    "rr = Decrypt(ct,j)\n",
    "print(r==rr)"
   ]
  },
  {
   "cell_type": "markdown",
   "metadata": {},
   "source": [
    "##### KEM-IND-CPA"
   ]
  },
  {
   "cell_type": "markdown",
   "metadata": {},
   "source": [
    "Já a camada do **Streamlined NTRU Prime** que implementa um KEM é a camada externa, denominada **Streamlined NTRU Prime**."
   ]
  }
 ],
 "metadata": {
  "kernelspec": {
   "display_name": "SageMath 9.0",
   "language": "sage",
   "name": "sagemath"
  },
  "language_info": {
   "codemirror_mode": {
    "name": "ipython",
    "version": 3
   },
   "file_extension": ".py",
   "mimetype": "text/x-python",
   "name": "python",
   "nbconvert_exporter": "python",
   "pygments_lexer": "ipython3",
   "version": "3.7.3"
  }
 },
 "nbformat": 4,
 "nbformat_minor": 2
}
