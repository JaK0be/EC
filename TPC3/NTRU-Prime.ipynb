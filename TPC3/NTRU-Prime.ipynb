{
 "cells": [
  {
   "cell_type": "markdown",
   "metadata": {},
   "source": [
    "### Pedro Gonçalves (A82313) & Roberto Cachada (A81012)"
   ]
  },
  {
   "cell_type": "markdown",
   "metadata": {},
   "source": [
    "Os algoritmos/notação implementados/utilizados neste *notebook* são baseados no [documento](https://ntruprime.cr.yp.to/nist/ntruprime-20190330.pdf) da segunda ronda da candidatura ao concurso da NIST."
   ]
  },
  {
   "cell_type": "markdown",
   "metadata": {},
   "source": [
    "##### PKE-IND-CCA"
   ]
  },
  {
   "cell_type": "markdown",
   "metadata": {},
   "source": [
    "A camada do **Streamlined NTRU Prime** que implementa um PKE determinista é a camada interna, denominada **Streamlined NTRU Prime Core**.\n",
    "\n",
    "A implementação abaixo, é baseada no software disponível no [site](https://ntruprime.cr.yp.to/ntruprime.sage) do NTRU."
   ]
  },
  {
   "cell_type": "code",
   "execution_count": 1,
   "metadata": {},
   "outputs": [],
   "source": [
    "import sys\n",
    "import hashlib\n",
    "\n",
    "def sha512(s):\n",
    "    h = hashlib.sha512()\n",
    "    h.update(s.encode('utf-8'))\n",
    "    return h.digest()\n",
    "\n",
    "#Parámetros sntrup761\n",
    "(p,q,w) = (Integer(761) ,Integer(4591) ,Integer(286))\n",
    "#Verificação Parámetros\n",
    "assert p.is_prime()\n",
    "assert q.is_prime()\n",
    "assert w > Integer(0)\n",
    "assert Integer(2)*p >= Integer(3)*w\n",
    "assert q >= Integer(16)*w+Integer(1)\n",
    "\n",
    "#-------\n",
    "\n",
    "F3 = GF( Integer(3) )\n",
    "def ZZ_fromF3(c):\n",
    "    assert c in F3\n",
    "    return ZZ(c+Integer(1))-Integer(1)\n",
    "\n",
    "Fq = GF(q)\n",
    "q12 = ZZ((q-Integer(1))/Integer(2) )\n",
    "def ZZ_fromFq(c):\n",
    "    assert c in Fq\n",
    "    return ZZ(c+q12)-q12\n",
    "\n",
    "#------- Anel polinomial Z\n",
    "\n",
    "Zx = ZZ['x']; (x,) = Zx._first_ngens(1)\n",
    "R = Zx.quotient(x**p-x-Integer(1) , names=('xp',)); (xp,) = R._first_ngens(1)\n",
    "\n",
    "def Weightw_is(r):\n",
    "    assert r in R\n",
    "    return w == len([i for i in range(p) if r[i] != Integer(0) ])\n",
    "\n",
    "def Small_is(r):\n",
    "    assert r in R\n",
    "    return all(abs(r[i]) <= Integer(1)  for i in range(p))\n",
    "\n",
    "def Short_is(r):\n",
    "    return Small_is(r) and Weightw_is(r)\n",
    "\n",
    "#------- Anel polinomial Z mod 3\n",
    "\n",
    "F3x = F3['x3']; (x3,) = F3x._first_ngens(1)\n",
    "R3 = F3x.quotient(x**p-x-Integer(1) , names=('x3p',)); (x3p,) = R3._first_ngens(1)\n",
    "\n",
    "def R_fromR3(r):\n",
    "    assert r in R3\n",
    "    return R([ZZ_fromF3(r[i]) for i in range(p)])\n",
    "\n",
    "def R3_fromR(r):\n",
    "    assert r in R\n",
    "    return R3([r[i] for i in range(p)])\n",
    "    \n",
    "# ----- Anel polinomial Z mod q\n",
    "\n",
    "Fqx = Fq['xq']; (xq,) = Fqx._first_ngens(1)\n",
    "Rq = Fqx.quotient(x**p-x-Integer(1) , names=('xqp',)); (xqp,) = Rq._first_ngens(1)\n",
    "assert (xq**p-xq-Integer(1) ).is_irreducible() #A verificação final dos parâmetros (Verifica se o polinómio é irredutível em Z/q)\n",
    "\n",
    "def R_fromRq(r):\n",
    "    assert r in Rq\n",
    "    return R([ZZ_fromFq(r[i]) for i in range(p)])\n",
    "\n",
    "def Rq_fromR(r):\n",
    "    assert r in R\n",
    "    return Rq([r[i] for i in range(p)])\n",
    "\n",
    "# ----- Arredondamento de polonomiais mod q\n",
    "\n",
    "def Rounded_is(r):\n",
    "    assert r in R\n",
    "    return (all(r[i]%Integer(3)  == Integer(0)  for i in range(p))\n",
    "        and all(r[i] >= -q12 for i in range(p))\n",
    "        and all(r[i] <= q12 for i in range(p)))\n",
    "\n",
    "def Round(a):\n",
    "    assert a in Rq\n",
    "    c = R_fromRq(a)\n",
    "    r = [Integer(3) *round(c[i]/Integer(3) ) for i in range(p)]\n",
    "    assert all(abs(r[i]-c[i]) <= Integer(1)  for i in range(p))\n",
    "    r = R(r)\n",
    "    assert Rounded_is(r)\n",
    "    return r\n",
    "\n",
    "# ----- Geração de Short\n",
    "\n",
    "def Short_fromlist(L): # L is list of p uint32\n",
    "    L = [L[i]&-Integer(2)  for i in range(w)] + [(L[i]&-Integer(3) )|Integer(1)  for i in range(w,p)]\n",
    "    assert all(L[i]%Integer(2)  == Integer(0)  for i in range(w))\n",
    "    assert all(L[i]%Integer(4)  == Integer(1)  for i in range(w,p))\n",
    "    L.sort()\n",
    "    L = [(L[i]%Integer(4) )-Integer(1)  for i in range(p)]\n",
    "    assert all(abs(L[i]) <= Integer(1)  for i in range(p))\n",
    "    assert sum(abs(L[i]) for i in range(p)) == w\n",
    "    r = R(L)\n",
    "    assert Short_is(r)\n",
    "    return r\n",
    "\n",
    "def random8():\n",
    "    return randrange(Integer(256) )\n",
    "\n",
    "def urandom32():\n",
    "    c0 = random8()\n",
    "    c1 = random8()\n",
    "    c2 = random8()\n",
    "    c3 = random8()\n",
    "    return c0 +Integer(256) *c1 + Integer(65536) *c2 + Integer(16777216) *c3\n",
    "\n",
    "def Short_random():\n",
    "    L = [urandom32() for i in range(p)]\n",
    "    return Short_fromlist(L)\n",
    "\n",
    "def randomrange3():\n",
    "    return ((urandom32() & Integer(0x3fffffff) ) * Integer(3) ) >> Integer(30)\n",
    "\n",
    "def Small_random():\n",
    "    r = R([randomrange3()-Integer(1)  for i in range(p)])\n",
    "    assert Small_is(r)\n",
    "    return r"
   ]
  },
  {
   "cell_type": "code",
   "execution_count": 2,
   "metadata": {},
   "outputs": [],
   "source": [
    "def KeyGen():\n",
    "    while (True):\n",
    "        g = Small_random() #gera um elemento g pertencente a R\n",
    "        if R3_fromR(g).is_unit(): \n",
    "            break #Verifica se g é invertível em R/3, se não for é escolhido outro g\n",
    "    f = Short_random() #Gerado um elemento f de Short(set of small weight-w elements of R)\n",
    "    h = Rq_fromR(g)/Rq_fromR(Integer(3) *f)\n",
    "    return h,(f,Integer(1) /R3_fromR(g)) #Chave pública/Chave Privada\n",
    "\n",
    "#Recebe um input e a chave pública e retorna um ciphertext (Input × PublicKey -> Ciphertext)\n",
    "def Encrypt(r,h):\n",
    "    assert Short_is(r) #Verifica se r pertence ao set Short\n",
    "    assert h in Rq #Verifica se h pertence ao anel R/q \n",
    "    return Round(h*Rq_fromR(r))\n",
    "\n",
    "#Recebe um ciphertext e a chave privada e retorna o input original (Ciphertext × SecretKey -> Input)\n",
    "def Decrypt(c,k):\n",
    "    f,v = k\n",
    "    assert Rounded_is(c) #Verifica se c pertence ao Ciphertext/Rounded\n",
    "    assert Short_is(f) #Verifica se f pertence ao Short\n",
    "    assert v in R3 #Verifica se v pertence a R/3\n",
    "    e = R3_fromR(R_fromRq(Integer(3) *Rq_fromR(f)*Rq_fromR(c))) #Calcula 3fc ∈ R/3 \n",
    "    r = R_fromR3(e*v) #Multiplica e por v em R/3\n",
    "    if Weightw_is(r): \n",
    "        return r\n",
    "    return R([Integer(1) ]*w+[Integer(0) ]*(p-w))"
   ]
  },
  {
   "cell_type": "code",
   "execution_count": 3,
   "metadata": {
    "scrolled": true
   },
   "outputs": [
    {
     "name": "stdout",
     "output_type": "stream",
     "text": [
      "True\n"
     ]
    }
   ],
   "source": [
    "h,j = KeyGen()\n",
    "r = Short_random()\n",
    "ct = Encrypt(r,h)\n",
    "rr = Decrypt(ct,j)\n",
    "print(r==rr)"
   ]
  },
  {
   "cell_type": "markdown",
   "metadata": {},
   "source": [
    "##### KEM-IND-CPA"
   ]
  },
  {
   "cell_type": "markdown",
   "metadata": {},
   "source": [
    "Já a camada do **Streamlined NTRU Prime** que implementa um KEM é a camada externa, denominada **Streamlined NTRU Prime**.\n",
    "\n",
    "A implementação abaixo, é baseada no software disponível no [site](https://ntruprime.cr.yp.to/sntrup4591761.sage) do NTRU."
   ]
  }
 ],
 "metadata": {
  "kernelspec": {
   "display_name": "SageMath 9.0",
   "language": "sage",
   "name": "sagemath"
  },
  "language_info": {
   "codemirror_mode": {
    "name": "ipython",
    "version": 3
   },
   "file_extension": ".py",
   "mimetype": "text/x-python",
   "name": "python",
   "nbconvert_exporter": "python",
   "pygments_lexer": "ipython3",
   "version": "3.7.3"
  }
 },
 "nbformat": 4,
 "nbformat_minor": 2
}
