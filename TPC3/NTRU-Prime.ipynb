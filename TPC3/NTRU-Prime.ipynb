{
 "cells": [
  {
   "cell_type": "markdown",
   "metadata": {},
   "source": [
    "### Pedro Gonçalves (A82313) & Roberto Cachada (A81012)"
   ]
  },
  {
   "cell_type": "markdown",
   "metadata": {},
   "source": [
    "Os algoritmos implementados neste *notebook* são baseados no [documento](https://ntruprime.cr.yp.to/nist/ntruprime-20190330.pdf) da segunda ronda da candidatura ao concurso da NIST."
   ]
  },
  {
   "cell_type": "markdown",
   "metadata": {},
   "source": [
    "##### PKE-IND-CCA"
   ]
  },
  {
   "cell_type": "markdown",
   "metadata": {},
   "source": [
    "A camada do **Streamlined NTRU Prime** que implementa um PKE determinista é a camada interna, denominada **Streamlined NTRU Prime Core**."
   ]
  },
  {
   "cell_type": "code",
   "execution_count": null,
   "metadata": {},
   "outputs": [],
   "source": [
    "class NTRUPrimeCore(object):\n",
    "    p = 0\n",
    "    q = 0\n",
    "    w = 0\n",
    "    \n",
    "    def __init__(self): #definição parâmetros recomendados pelo documento\n",
    "        self.p = 761\n",
    "        self.q = 4591\n",
    "        self.w = 286\n",
    "        \n",
    "    def keygen"
   ]
  },
  {
   "cell_type": "code",
   "execution_count": 1,
   "metadata": {},
   "outputs": [],
   "source": [
    "def KeyGen():\n",
    "    while True:\n",
    "      g = Small_random()\n",
    "      if R3_fromR(g).is_unit(): break\n",
    "    f = Short_random()\n",
    "    h = Rq_fromR(g)/Rq_fromR(_sage_const_3 *f)\n",
    "    return h,(f,_sage_const_1 /R3_fromR(g))\n",
    "\n",
    "def Encrypt(r,h):\n",
    "    assert Short_is(r)\n",
    "    assert h in Rq\n",
    "    return Round(h*Rq_fromR(r))\n",
    "\n",
    "def Decrypt(c,k):\n",
    "    f,v = k\n",
    "    assert Rounded_is(c)\n",
    "    assert Short_is(f)\n",
    "    assert v in R3\n",
    "    e = R3_fromR(R_fromRq(_sage_const_3 *Rq_fromR(f)*Rq_fromR(c)))\n",
    "    r = R_fromR3(e*v)\n",
    "    if Weightw_is(r): return r\n",
    "    return R([_sage_const_1 ]*w+[_sage_const_0 ]*(p-w))"
   ]
  },
  {
   "cell_type": "markdown",
   "metadata": {},
   "source": [
    "##### KEM-IND-CPA"
   ]
  },
  {
   "cell_type": "markdown",
   "metadata": {},
   "source": [
    "Já a camada do **Streamlined NTRU Prime** que implementa um KEM é a camada externa, denominada **Streamlined NTRU Prime**."
   ]
  }
 ],
 "metadata": {
  "kernelspec": {
   "display_name": "SageMath 9.0",
   "language": "sage",
   "name": "sagemath"
  },
  "language_info": {
   "codemirror_mode": {
    "name": "ipython",
    "version": 3
   },
   "file_extension": ".py",
   "mimetype": "text/x-python",
   "name": "python",
   "nbconvert_exporter": "python",
   "pygments_lexer": "ipython3",
   "version": "3.7.3"
  }
 },
 "nbformat": 4,
 "nbformat_minor": 2
}
