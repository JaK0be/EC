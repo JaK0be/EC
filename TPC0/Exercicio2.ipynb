{
 "cells": [
  {
   "cell_type": "markdown",
   "metadata": {},
   "source": [
    "### Exercício 2 - Pedro Gonçalves (A82313) & Roberto Cachada (A81012)"
   ]
  },
  {
   "cell_type": "markdown",
   "metadata": {},
   "source": [
    "Para este exercício era pedido a criação de dois agentes, ***Emitter*** e ***Receiver***, de modo a estabelecer uma comunicação privada entre ambos, utilizando para isso a *package* ***Cryptography***. Para tal, foram criadas diferentes funções de modo a cumprir esse objetivo. Essas funções serão descritas em baixo."
   ]
  },
  {
   "cell_type": "markdown",
   "metadata": {},
   "source": [
    "##### Alínea a)\n",
    "* Para esta primeira alínea foram criadas as funções ***encrypt*** e ***decrypt***. Tal como os nomes sugerem, a primeira função serve para encriptar/autenticar o texto limpo utilizando a cifra *AES (Advanced Encryption Standard)*, em modo *GCM (Galois Counter Mode)*, e ao mesmo tempo autenticar metadados extra. A segunda função decifra o resultado produzido pela função *encrypt* e verifica a autenticidade dos metadados."
   ]
  },
  {
   "cell_type": "code",
   "execution_count": 1,
   "metadata": {},
   "outputs": [],
   "source": [
    "import os\n",
    "import getpass\n",
    "from cryptography.hazmat.primitives.kdf.pbkdf2 import PBKDF2HMAC\n",
    "from cryptography.hazmat.primitives import hashes, hmac\n",
    "from cryptography.hazmat.primitives.ciphers import Cipher, algorithms, modes\n",
    "from cryptography.hazmat.backends import default_backend\n",
    "from cryptography.hazmat.primitives.ciphers.aead import AESGCM\n",
    "\n",
    "def encrypt(chave, textolimpo, metadados):\n",
    "    iv = os.urandom(12) #gera um IV de 12 bytes\n",
    "\n",
    "    #Criação de um objeto AES-GCM através da chave e do IV \n",
    "    encryptor = Cipher(\n",
    "        algorithms.AES(chave), #Cifra AES\n",
    "        modes.GCM(iv), #Modo GCM\n",
    "        backend=default_backend()\n",
    "    ).encryptor()\n",
    "\n",
    "    #Autentica os metadados\n",
    "    encryptor.authenticate_additional_data(metadados)\n",
    "\n",
    "    #Encripta o texto limpo\n",
    "    ciphertext = encryptor.update(textolimpo) + encryptor.finalize()\n",
    "\n",
    "    return (iv, ciphertext, encryptor.tag)\n",
    "\n",
    "def decrypt(chave, metadados, iv, ciphertext, tag):\n",
    "    #Criação de um objeto AES-GCM através da chave, do IV e da tag dos metadados\n",
    "    decryptor = Cipher(\n",
    "        algorithms.AES(chave),\n",
    "        modes.GCM(iv, tag),\n",
    "        backend=default_backend()\n",
    "    ).decryptor()\n",
    "\n",
    "    #Verifica a autenticidade dos metadados\n",
    "    decryptor.authenticate_additional_data(metadados)\n",
    "\n",
    "    #Retorna o texto limpo\n",
    "    return decryptor.update(ciphertext) + decryptor.finalize()"
   ]
  },
  {
   "cell_type": "markdown",
   "metadata": {},
   "source": [
    "##### Alínea b)\n",
    "* Nesta alínea foi criada a função ***kdf*** que dado uma palavra-passe e um *salt* de *16 bytes*, gera uma chave de *32 bytes* segura, para ser utilizada nos processos de encriptação/decifragem, a partir de uma palavra-passe facilmente memorizável pelos utilizadores. "
   ]
  },
  {
   "cell_type": "code",
   "execution_count": 2,
   "metadata": {},
   "outputs": [],
   "source": [
    "def kdf(password, salt): #Recebendo um palavra-passe e um salt de 16 bytes gera uma chave para utilizar nos processos de encriptação/decifragem\n",
    "    kdf = PBKDF2HMAC(\n",
    "    algorithm=hashes.SHA256(), #É ulilizado o SHA256\n",
    "    length=32, #Comprimento da chave gerada\n",
    "    salt=salt,\n",
    "    iterations=100000,\n",
    "    backend=default_backend()\n",
    "    )\n",
    "    key = kdf.derive(password.encode('utf-8'))\n",
    "    return key"
   ]
  },
  {
   "cell_type": "markdown",
   "metadata": {},
   "source": [
    "##### Alínea c)\n",
    "* Para garantir a autenticação prévia da chave gerada pela função em cima, foi criada a função ***mac***, que utiliza uma função de *hash* criptográfica juntamente com uma chave para cumprir tal objetivo. Esta função serve também para verificar se a autenticidade da chave durante o processo de decifragem."
   ]
  },
  {
   "cell_type": "code",
   "execution_count": 3,
   "metadata": {},
   "outputs": [],
   "source": [
    "def mac(chave,texto, tag=None):\n",
    "    h = hmac.HMAC(chave,hashes.SHA256(),default_backend())\n",
    "    h.update(texto)\n",
    "    if tag == None: #Se não existir tag, autentica o texto\n",
    "        return h.finalize()\n",
    "    h.verify(tag) #Caso contrário verifica a autenticidade da tag"
   ]
  },
  {
   "cell_type": "markdown",
   "metadata": {},
   "source": [
    "##### Comunicação Privada\n",
    "* Para os agentes comunicarem entre si, é criado uma ligação através de um *pipe*, que permite ao ***Emitter*** enviar uma *stream* de informação encriptada ao ***Receiver***, fechando ambos a conexão após o envio/receção da *stream* de informação."
   ]
  },
  {
   "cell_type": "code",
   "execution_count": 4,
   "metadata": {},
   "outputs": [],
   "source": [
    "from multiprocessing import Process, Pipe\n",
    "\n",
    "class PipeCom(object):\n",
    "    def __init__(self,left,right): #Recebe os agentes\n",
    "        left_end, right_end = Pipe() #São criadas as \"pontas\" do Pipe\n",
    "        self.left  = lambda : left(left_end) #Define quais as \"pontas\" a que cada agente tem acesso\n",
    "        self.right = lambda : right(right_end)\n",
    "        \n",
    "    def execute(self): #Executa os agentes\n",
    "        self.left()\n",
    "        self.right()"
   ]
  },
  {
   "cell_type": "code",
   "execution_count": 5,
   "metadata": {},
   "outputs": [],
   "source": [
    "salt = os.urandom(16) #Salt partilhado\n",
    "metadados = b\"metadados vfvfvfvfv\"\n",
    "\n",
    "def Receiver(conn):\n",
    "    password = getpass.getpass('Password Receiver:')\n",
    "    keyR = kdf(password,salt) #Cria chave para do Receiver\n",
    "\n",
    "    try: #Separar os diferentes componentes da stream(dicionário) de dados recebida\n",
    "        data = conn.recv() #Recebe dados\n",
    "        ciphertext = data['cipher']\n",
    "        tagM = data['tagM']\n",
    "        tagK = data['tagK']\n",
    "        iv = data['iv']\n",
    "    \n",
    "        mac(keyR,keyR,tagK) #Verifica o MAC da chave\n",
    "        print(\"MAC chave verificado\")\n",
    "        print(decrypt( #Decifra o ciphertext e verifica a autenticidade dos metadados\n",
    "            keyR,\n",
    "            metadados,\n",
    "            iv,\n",
    "            ciphertext,\n",
    "            tagM\n",
    "        ))\n",
    "        print(\"OK\")\n",
    "    except:\n",
    "        print(\"Erro no Receiver\")\n",
    "    conn.close() #Fecha a sua \"ponta\" do Pipe\n",
    "\n",
    "def Emitter(conn):\n",
    "    password = getpass.getpass('Password Emitter')\n",
    "    keyE = kdf(password,salt) #Cria chave para do Emitter\n",
    "    texto = input('Mensagem a Cifrar:')\n",
    "    try:\n",
    "        iv, ciphertext, tagM = encrypt( #Cifra texto limpo + MAC metadados\n",
    "            keyE,\n",
    "            texto.encode('utf-8'),\n",
    "            metadados\n",
    "        )\n",
    "        tagK = mac(keyE,keyE) #MAC chave\n",
    "        data = {'cipher' : ciphertext , 'tagM' : tagM , 'tagK' : tagK, 'iv' : iv} #Organiza os elementos numa Stream(dicionário)\n",
    "        conn.send(data) #Envia dados\n",
    "        print(\"Dados Enviados\")\n",
    "    except:\n",
    "        print(\"Erro no Emitter\")\n",
    "    conn.close() #Fecha a sua \"ponta\" do Pipe"
   ]
  },
  {
   "cell_type": "code",
   "execution_count": null,
   "metadata": {
    "scrolled": false
   },
   "outputs": [],
   "source": [
    "PipeCom(Emitter,Receiver).execute()"
   ]
  }
 ],
 "metadata": {
  "kernelspec": {
   "display_name": "Python 3",
   "language": "python",
   "name": "python3"
  },
  "language_info": {
   "codemirror_mode": {
    "name": "ipython",
    "version": 3
   },
   "file_extension": ".py",
   "mimetype": "text/x-python",
   "name": "python",
   "nbconvert_exporter": "python",
   "pygments_lexer": "ipython3",
   "version": "3.7.6"
  }
 },
 "nbformat": 4,
 "nbformat_minor": 2
}
