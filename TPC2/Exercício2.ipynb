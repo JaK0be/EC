{
 "cells": [
  {
   "cell_type": "markdown",
   "metadata": {},
   "source": [
    "### Exercício 2 - Pedro Gonçalves (A82313) & Roberto Cachada (A81012)"
   ]
  },
  {
   "cell_type": "code",
   "execution_count": 1,
   "metadata": {},
   "outputs": [],
   "source": [
    "#Tamanhos recomendados pelo FIPS 186-4 \n",
    "#  (1024,160) (2048,256) (2072,256)\n",
    "def parameterGen(tamanhoP, tamanhoQ): #tamanho em bits\n",
    "    #verificar que tamanhoP é multiplo de 64\n",
    "    q = random_prime( (2**tamanhoQ)-1, True)\n",
    "    \n",
    "    x = 2**tamanhoP\n",
    "    qq = q\n",
    "    while qq<x:\n",
    "        if (qq+1).is_prime():\n",
    "            p=qq+1\n",
    "            break\n",
    "        qq = qq*2\n",
    "    \n",
    "    h = Integer(randint(2,p-2))\n",
    "    \n",
    "    g = mod(pow(h,((p-1)/q)),p)\n",
    "    while g==1:\n",
    "        h = Integer(randint(2,p-2))\n",
    "        g = mod(pow(h,((p-1)/q)),p)\n",
    "    \n",
    "    print(p)\n",
    "    print(type(p))\n",
    "    print(is_prime(p))\n",
    "    print(\"\\n ---- \\n\")\n",
    "    print(q)\n",
    "    print(type(q))\n",
    "    print(is_prime(q))\n",
    "    print(\"\\n ---- \\n\")\n",
    "    print(h)\n",
    "    print(type(h))\n",
    "    print(\"\\n ---- \\n\")\n",
    "    print(g)\n",
    "    print(type(g))\n",
    "    \n",
    "    return p,q,g    "
   ]
  },
  {
   "cell_type": "code",
   "execution_count": 2,
   "metadata": {
    "scrolled": true
   },
   "outputs": [
    {
     "name": "stdout",
     "output_type": "stream",
     "text": [
      "479\n",
      "<class 'sage.rings.integer.Integer'>\n",
      "True\n",
      "\n",
      " ---- \n",
      "\n",
      "239\n",
      "<class 'sage.rings.integer.Integer'>\n",
      "True\n",
      "\n",
      " ---- \n",
      "\n",
      "405\n",
      "<class 'sage.rings.integer.Integer'>\n",
      "\n",
      " ---- \n",
      "\n",
      "207\n",
      "<class 'sage.rings.finite_rings.integer_mod.IntegerMod_int'>\n"
     ]
    }
   ],
   "source": [
    "p,q,g = parameterGen(32,8)"
   ]
  },
  {
   "cell_type": "code",
   "execution_count": 3,
   "metadata": {},
   "outputs": [],
   "source": [
    "def keyGen(g,q,p): #Retorna um duplo com a chave privada e pública\n",
    "    x = randint(1,q-1) #Chave Privada\n",
    "    y = (g**x)%p # Chave Pública\n",
    "    \n",
    "    return x,y"
   ]
  },
  {
   "cell_type": "code",
   "execution_count": 4,
   "metadata": {},
   "outputs": [],
   "source": [
    "import hashlib\n",
    "\n",
    "def assinar(textolimpo,p,q,g,chavePrivada):\n",
    "    H = int(hashlib.sha256(textolimpo.encode()).hexdigest(),16) #Hash mensagem\n",
    "    \n",
    "    k = randint(1,q-1)\n",
    "    r = ((g**k)%p)%q\n",
    "    while r==0:\n",
    "        k = randint(1,q-1)\n",
    "        r = ((g**k)%p)%q\n",
    "           \n",
    "    s = ( (k**(-1))*(H+chavePrivada*r) )%q\n",
    "    while s==0:\n",
    "        k = randint(1,q-1)\n",
    "        r = ((g**k)%p)%q\n",
    "        while r==0:\n",
    "            k = randint(1,q-1)\n",
    "            r = ((g**k)%p)%q\n",
    "        s = ( (k**(-1))*(H+chavePrivada*r) )%q\n",
    "    \n",
    "    return r,s"
   ]
  },
  {
   "cell_type": "code",
   "execution_count": 5,
   "metadata": {},
   "outputs": [],
   "source": [
    "def verificar(r,s,textolimpo,p,q,g,chavePublica):\n",
    "    H = int(hashlib.sha256(textolimpo.encode()).hexdigest(),16) #Hash mensagem\n",
    "    \n",
    "    if (r>0 and r<q and s>0 and s<q):\n",
    "        w = (s**(-1))%q\n",
    "        u1 = (H*w)%q\n",
    "        u2 = (r*w)%q\n",
    "        v = (((g**u1)*(chavePublica**u2))%p)%q\n",
    "        \n",
    "        if (v==r):\n",
    "            print(\"Assinatura verificada\")\n",
    "        else:\n",
    "            print(\"Assinatura não verificada\")\n",
    "\n",
    "    else:\n",
    "        print(\"Assinatura não verificada\")"
   ]
  }
 ],
 "metadata": {
  "kernelspec": {
   "display_name": "Python 3",
   "language": "python",
   "name": "python3"
  },
  "language_info": {
   "codemirror_mode": {
    "name": "ipython",
    "version": 3
   },
   "file_extension": ".py",
   "mimetype": "text/x-python",
   "name": "python",
   "nbconvert_exporter": "python",
   "pygments_lexer": "ipython3",
   "version": "3.7.7"
  }
 },
 "nbformat": 4,
 "nbformat_minor": 2
}
