{
 "cells": [
  {
   "cell_type": "markdown",
   "metadata": {},
   "source": [
    "### Exercício 2 - Pedro Gonçalves (A82313) & Roberto Cachada (A81012)"
   ]
  },
  {
   "cell_type": "code",
   "execution_count": 39,
   "metadata": {},
   "outputs": [],
   "source": [
    "#Tamanhos recomendados pelo FIPS 186-4 \n",
    "#  (1024,160) (2048,256) (2072,256)\n",
    "def parameterGen(tamanhoP, tamanhoQ): #tamanho em bits\n",
    "    #verificar que tamanhoP é multiplo de 64\n",
    "    q = random_prime( (2^tamanhoQ)-1, True, (2^(tamanhoQ-1)) )\n",
    "    \n",
    "    x = 2^tamanhoP\n",
    "    qq = q\n",
    "    while qq<x:\n",
    "        if (qq+1).is_prime():\n",
    "            p=qq+1\n",
    "            break\n",
    "        qq = qq*2\n",
    "    \n",
    "    Fp = GF(p)\n",
    "    '''\n",
    "    h = ZZ.random_element(2,p-2)\n",
    "    \n",
    "    hh = Fp(h) # h mod p \n",
    "    \n",
    "    g = hh ^ ((p-1)/q)\n",
    "    '''\n",
    "    g=1\n",
    "    while g==1:\n",
    "        h = ZZ.random_element(2,p-2)\n",
    "        hh = Fp(h) # h mod p \n",
    "\n",
    "        g = hh ^ ((p-1)/q)\n",
    "    \n",
    "    '''\n",
    "    print(p)\n",
    "    print(type(p))\n",
    "    print(is_prime(p))\n",
    "    print(\"\\n ---- \\n\")\n",
    "    print(q)\n",
    "    print(type(q))\n",
    "    print(is_prime(q))\n",
    "    print(\"\\n ---- \\n\")\n",
    "    print(h)\n",
    "    print(type(h))\n",
    "    print(\"\\n ---- \\n\")\n",
    "    print(g)\n",
    "    print(type(g))\n",
    "    '''\n",
    "    return p,q,g    "
   ]
  },
  {
   "cell_type": "code",
   "execution_count": 41,
   "metadata": {
    "scrolled": true
   },
   "outputs": [],
   "source": [
    "p,q,g = parameterGen(2072,256)"
   ]
  },
  {
   "cell_type": "code",
   "execution_count": 42,
   "metadata": {},
   "outputs": [],
   "source": [
    "def keyGen(g,q,p): #Retorna um duplo com a chave privada e pública\n",
    "    x = ZZ.random_element(1,q-1) #Chave Privada\n",
    "    Fp = GF(p)\n",
    "    \n",
    "    y = Fp(g^x) # Chave Pública\n",
    "    \n",
    "    return x,y"
   ]
  },
  {
   "cell_type": "code",
   "execution_count": 58,
   "metadata": {},
   "outputs": [
    {
     "name": "stdout",
     "output_type": "stream",
     "text": [
      "13419176529475859794403835976887956338980063270812894414999155039400603215749\n",
      "287788992851130543976462368914809479658461716373815019806455561327850273236857054418692099437671365724320776567350574828407327862694001179764931773959752\n"
     ]
    }
   ],
   "source": [
    "p,q,g = parameterGen(1024,256)\n",
    "x,y = keyGen(g,q,p)\n",
    "print(x)\n",
    "print(y)"
   ]
  },
  {
   "cell_type": "code",
   "execution_count": 62,
   "metadata": {},
   "outputs": [],
   "source": [
    "import hashlib\n",
    "\n",
    "def hash(mensagem):\n",
    "    result = ZZ(hashlib.sha256(mensagem.encode()).hexdigest(),16)\n",
    "    return result"
   ]
  },
  {
   "cell_type": "code",
   "execution_count": 63,
   "metadata": {},
   "outputs": [],
   "source": [
    "def assinar(textolimpo,p,q,g,chavePrivada):\n",
    "    H = hash(textolimpo)\n",
    "    \n",
    "    #k = ZZ.random_element(1,q-1)\n",
    "    \n",
    "    Fp = GF(p)\n",
    "    Fq = GF(q)\n",
    "    '''\n",
    "    #r = Fq(Fp(g^k))\n",
    "    r = 0\n",
    "    while r==0:\n",
    "        k = ZZ.random_element(1,q-1)\n",
    "        r = Fq(Fp(g^k))\n",
    "    \n",
    "    kk = Fq(k)\n",
    "    \n",
    "    s = (kk^(-1))*(H+chavePrivada*r)\n",
    "    '''\n",
    "    s = 0\n",
    "    while s==0:\n",
    "        k = ZZ.random_element(1,q-1)\n",
    "        r = Fq(Fp(g^k))\n",
    "        while r==0:\n",
    "            k = ZZ.random_element(1,q-1)\n",
    "            r = Fq(Fp(g^k))\n",
    "        \n",
    "        kk = Fq(k)\n",
    "        s = (kk^(-1))*(H+chavePrivada*r)\n",
    "    \n",
    "    return r,s"
   ]
  },
  {
   "cell_type": "code",
   "execution_count": 69,
   "metadata": {
    "scrolled": false
   },
   "outputs": [],
   "source": [
    "p,q,g = parameterGen(1024,256)\n",
    "x,y = keyGen(g,q,p)\n",
    "#print(x)\n",
    "#print(y)\n",
    "\n",
    "r,s = assinar(\"kachow\",p,q,g,x)"
   ]
  },
  {
   "cell_type": "code",
   "execution_count": 86,
   "metadata": {},
   "outputs": [],
   "source": [
    "def verificar(r,s,textolimpo,p,q,g,chavePublica):\n",
    "    H = hash(textolimpo)\n",
    "    \n",
    "    Fq = GF(q)\n",
    "    Fp = GF(p)\n",
    "    \n",
    "    w = Fq(s^(-1))\n",
    "    u1 = Fq(H*w)\n",
    "    u2 = Fq(r*w)\n",
    "    v = Fq( Fp( (g^u1)*(chavePublica^u2) ))\n",
    "#print(v==r)\n",
    "    return(v==r)"
   ]
  },
  {
   "cell_type": "code",
   "execution_count": null,
   "metadata": {
    "scrolled": true
   },
   "outputs": [],
   "source": [
    "p,q,g = parameterGen(1024,256)\n",
    "x,y = keyGen(g,q,p)\n",
    "#print(x)\n",
    "#print(y)\n",
    "\n",
    "r,s = assinar(\"kachow\",p,q,g,x)\n",
    "print(r)\n",
    "print(s)\n",
    "print(q)\n",
    "\n",
    "verificar(r,s,\"kachw\",p,q,g,y)"
   ]
  }
 ],
 "metadata": {
  "kernelspec": {
   "display_name": "SageMath 9.0",
   "language": "sage",
   "name": "sagemath"
  },
  "language_info": {
   "codemirror_mode": {
    "name": "ipython",
    "version": 3
   },
   "file_extension": ".py",
   "mimetype": "text/x-python",
   "name": "python",
   "nbconvert_exporter": "python",
   "pygments_lexer": "ipython3",
   "version": "3.7.3"
  }
 },
 "nbformat": 4,
 "nbformat_minor": 2
}
