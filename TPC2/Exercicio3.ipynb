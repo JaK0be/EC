{
 "cells": [
  {
   "cell_type": "markdown",
   "metadata": {},
   "source": [
    "### Exercício 3 - Pedro Gonçalves (A82313) & Roberto Cachada (A81012)"
   ]
  },
  {
   "cell_type": "code",
   "execution_count": 1,
   "metadata": {},
   "outputs": [],
   "source": [
    "# Tabelamento curvas elíticas primas FIPS186-4\n",
    "\n",
    "NIST = dict()\n",
    "NIST['P-192'] =  {\n",
    "         'p': 6277101735386680763835789423207666416083908700390324961279,\n",
    "         'n': 6277101735386680763835789423176059013767194773182842284081,\n",
    "         'seed' : '3045ae6fc8422f64ed579528d38120eae12196d5',\n",
    "         'c': '3099d2bbbfcb2538542dcd5fb078b6ef5f3d6fe2c745de65',\n",
    "         'b': '64210519e59c80e70fa7e9ab72243049feb8deecc146b9b1',\n",
    "         'Gx' : '188da80eb03090f67cbf20eb43a18800f4ff0afd82ff1012',\n",
    "         'Gy' : '07192b95ffc8da78631011ed6b24cdd573f977a11e794811'\n",
    "        }\n",
    "        \n",
    "NIST['P-224'] =  {\n",
    "         'p': 26959946667150639794667015087019630673557916260026308143510066298881,\n",
    "         'n': 26959946667150639794667015087019625940457807714424391721682722368061,\n",
    "         'seed' : 'bd71344799d5c7fcdc45b59fa3b9ab8f6a948bc5',\n",
    "         'c': '5b056c7e11dd68f40469ee7f3c7a7d74f7d121116506d031218291fb',\n",
    "         'b': 'b4050a850c04b3abf54132565044b0b7d7bfd8ba270b39432355ffb4',\n",
    "         'Gx' : 'b70e0cbd6bb4bf7f321390b94a03c1d356c21122343280d6115c1d21',\n",
    "         'Gy' : 'bd376388b5f723fb4c22dfe6cd4375a05a07476444d5819985007e34'\n",
    "        }\n",
    "\n",
    "NIST['P-256'] =  {\n",
    "         'p': 115792089210356248762697446949407573530086143415290314195533631308867097853951 ,\n",
    "         'n': 115792089210356248762697446949407573529996955224135760342422259061068512044369 ,\n",
    "         'seed' : 'c49d360886e704936a6678e1139d26b7819f7e90',\n",
    "         'c': '7efba1662985be9403cb055c75d4f7e0ce8d84a9c5114abcaf3177680104fa0d',\n",
    "         'b': '5ac635d8aa3a93e7b3ebbd55769886bc651d06b0cc53b0f63bce3c3e27d2604b',\n",
    "         'Gx' : '6b17d1f2e12c4247f8bce6e563a440f277037d812deb33a0f4a13945d898c296',\n",
    "         'Gy' : '4fe342e2fe1a7f9b8ee7eb4a7c0f9e162bce33576b315ececbb6406837bf51f5'\n",
    "        }\n",
    "\n",
    "NIST['P-384'] =  {\n",
    "         'p': 39402006196394479212279040100143613805079739270465446667948293404245721771496870329047266088258938001861606973112319,\n",
    "         'n': 39402006196394479212279040100143613805079739270465446667946905279627659399113263569398956308152294913554433653942643,\n",
    "         'seed' : 'a335926aa319a27a1d00896a6773a4827acdac73',\n",
    "         'c': '79d1e655f868f02fff48dcdee14151ddb80643c1406d0ca10dfe6fc52009540a495e8042ea5f744f6e184667cc722483',\n",
    "         'b': 'b3312fa7e23ee7e4988e056be3f82d19181d9c6efe8141120314088f5013875ac656398d8a2ed19d2a85c8edd3ec2aef',\n",
    "         'Gx' : 'aa87ca22be8b05378eb1c71ef320ad746e1d3b628ba79b9859f741e082542a385502f25dbf55296c3a545e3872760ab7',\n",
    "         'Gy' : '3617de4a96262c6f5d9e98bf9292dc29f8f41dbd289a147ce9da3113b5f0b8c00a60b1ce1d7e819d7a431d7c90ea0e5f '\n",
    "        }\n",
    "\n",
    "NIST['P-521'] =  {\n",
    "         'p': 6864797660130609714981900799081393217269435300143305409394463459185543183397656052122559640661454554977296311391480858037121987999716643812574028291115057151,\n",
    "         'n': 6864797660130609714981900799081393217269435300143305409394463459185543183397655394245057746333217197532963996371363321113864768612440380340372808892707005449,\n",
    "         'seed' : 'd09e8800291cb85396cc6717393284aaa0da64ba',\n",
    "         'c': '0b48bfa5f420a34949539d2bdfc264eeeeb077688e44fbf0ad8f6d0edb37bd6b533281000518e19f1b9ffbe0fe9ed8a3c2200b8f875e523868c70c1e5bf55bad637',\n",
    "         'b': '051953eb9618e1c9a1f929a21a0b68540eea2da725b99b315f3b8b489918ef109e156193951ec7e937b1652c0bd3bb1bf073573df883d2c34f1ef451fd46b503f00',\n",
    "         'Gx' : 'c6858e06b70404e9cd9e3ecb662395b4429c648139053fb521f828af606b4d3dbaa14b5e77efe75928fe1dc127a2ffa8de3348b3c1856a429bf97e7e31c2e5bd66',\n",
    "         'Gy' : '11839296a789a3bc0045c8a5fb42c7d1bd998f54449579b446817afbd17273e662c97ee72995ef42640c550b9013fad0761353c7086a272c24088be94769fd16650'\n",
    "        }"
   ]
  },
  {
   "cell_type": "code",
   "execution_count": 2,
   "metadata": {
    "scrolled": true
   },
   "outputs": [],
   "source": [
    "# E : y^2 = x^3 - 3*x + b (mod p)\n",
    "\n",
    "c = NIST['P-192']\n",
    "p  = c['p'] \n",
    "n  = c['n']\n",
    "a = -3\n",
    "b  = ZZ(c['b'],16)\n",
    "Gx = ZZ(c['Gx'],16)\n",
    "Gy = ZZ(c['Gy'],16)\n",
    "\n",
    "E = EllipticCurve(GF(p),[a,b])\n",
    "G = E((Gx,Gy))\n",
    "Fn = GF(n)"
   ]
  },
  {
   "cell_type": "code",
   "execution_count": 3,
   "metadata": {},
   "outputs": [],
   "source": [
    "import hashlib\n",
    "\n",
    "def hash(mensagem):\n",
    "    result = ZZ(hashlib.sha1(mensagem.encode()).hexdigest(),16)\n",
    "    return result"
   ]
  },
  {
   "cell_type": "code",
   "execution_count": 4,
   "metadata": {
    "scrolled": true
   },
   "outputs": [
    {
     "name": "stdout",
     "output_type": "stream",
     "text": [
      "<class 'sage.rings.integer.Integer'>\n",
      "6277101735386680763835789423176059013767194773182842284081\n"
     ]
    }
   ],
   "source": [
    "print(type(n))\n",
    "print(n)"
   ]
  },
  {
   "cell_type": "code",
   "execution_count": 5,
   "metadata": {},
   "outputs": [],
   "source": [
    "def keyGen():\n",
    "    d = ZZ.random_element(1,Integer(n-1)) #chave Privada\n",
    "    Q = d * G #chave Pública\n",
    "    return (Q, d)"
   ]
  },
  {
   "cell_type": "code",
   "execution_count": 6,
   "metadata": {
    "scrolled": true
   },
   "outputs": [
    {
     "name": "stdout",
     "output_type": "stream",
     "text": [
      "3927225407887526441492582414367223251233102467008533052614\n"
     ]
    }
   ],
   "source": [
    "Q,d = keyGen()\n",
    "print(d)"
   ]
  },
  {
   "cell_type": "code",
   "execution_count": 7,
   "metadata": {},
   "outputs": [],
   "source": [
    "def assinar(d, mensagem):\n",
    "    e = hash(mensagem)\n",
    "    r = 0\n",
    "    s = 0\n",
    "    while s == 0:\n",
    "        k = 1\n",
    "        while r == 0:\n",
    "            k = ZZ.random_element(1,Integer(n-1))\n",
    "            Q = k * G\n",
    "            (x1, y1) = Q.xy()\n",
    "            r = Fn(x1) # x1 mod n\n",
    "        \n",
    "        kk = Fn(k)\n",
    "        s = kk ^ (-1) * (e + d * r)\n",
    "       \n",
    "    return (r, s)\n"
   ]
  },
  {
   "cell_type": "code",
   "execution_count": 8,
   "metadata": {},
   "outputs": [
    {
     "name": "stdout",
     "output_type": "stream",
     "text": [
      "739544749425350618512856478851864111170448584586544473185\n"
     ]
    },
    {
     "data": {
      "text/plain": [
       "(4979138076421052574748241184484716267231352308173172349646,\n",
       " 4446499173318758023914972410088517371702736180502583592089)"
      ]
     },
     "execution_count": 8,
     "metadata": {},
     "output_type": "execute_result"
    }
   ],
   "source": [
    "Q,d = keyGen()\n",
    "print(d)\n",
    "assinar(d,\"kachow\")"
   ]
  },
  {
   "cell_type": "code",
   "execution_count": 9,
   "metadata": {},
   "outputs": [],
   "source": [
    "def ecdsa_verify(Q, m, r, s):\n",
    "    if(1<=r<=n-1 and 1<=s<=n-1):\n",
    "        e = hash(m)\n",
    "        w = s ^ (-1)\n",
    "        u1 = (e * w)\n",
    "        u2 = (r * w)\n",
    "        P1 = Integer(u1) * G\n",
    "        P2 = Integer(u2) * Q\n",
    "        X = P1 + P2\n",
    "        (x, y) = X.xy()\n",
    "        v = Fn(x)\n",
    "        return v == r\n",
    "    else: return False"
   ]
  },
  {
   "cell_type": "code",
   "execution_count": 10,
   "metadata": {},
   "outputs": [
    {
     "name": "stdout",
     "output_type": "stream",
     "text": [
      "3554093628203038434339012687769985718052574420054045201198\n"
     ]
    },
    {
     "data": {
      "text/plain": [
       "False"
      ]
     },
     "execution_count": 10,
     "metadata": {},
     "output_type": "execute_result"
    }
   ],
   "source": [
    "Q,d = keyGen()\n",
    "print(d)\n",
    "r,s = assinar(d,\"kachow\")\n",
    "ecdsa_verify(Q,\"kachow\",r,s)"
   ]
  }
 ],
 "metadata": {
  "kernelspec": {
   "display_name": "SageMath 9.0",
   "language": "sage",
   "name": "sagemath"
  },
  "language_info": {
   "codemirror_mode": {
    "name": "ipython",
    "version": 3
   },
   "file_extension": ".py",
   "mimetype": "text/x-python",
   "name": "python",
   "nbconvert_exporter": "python",
   "pygments_lexer": "ipython3",
   "version": "3.7.3"
  }
 },
 "nbformat": 4,
 "nbformat_minor": 2
}
